{
  "cells": [
    {
      "cell_type": "markdown",
      "metadata": {
        "id": "view-in-github",
        "colab_type": "text"
      },
      "source": [
        "<a href=\"https://colab.research.google.com/github/YeaAyuni/whs-runner/blob/main/Whs_Runner.ipynb\" target=\"_parent\"><img src=\"https://colab.research.google.com/assets/colab-badge.svg\" alt=\"Open In Colab\"/></a>"
      ]
    },
    {
      "cell_type": "markdown",
      "metadata": {
        "id": "6t7Fe8XBw0f9"
      },
      "source": [
        "# Requirements"
      ]
    },
    {
      "cell_type": "code",
      "execution_count": null,
      "metadata": {
        "cellView": "form",
        "id": "3tg1lEoAwcAn"
      },
      "outputs": [],
      "source": [
        "#@title Packages\n",
        "!sudo apt update && sudo apt upgrade\n",
        "!sudo apt install ffmpeg\n",
        "\n",
        "!pip install gradio\n",
        "!pip install git+https://github.com/openai/whisper.git\n",
        "!pip install yt_dlp"
      ]
    },
    {
      "cell_type": "code",
      "source": [
        "#@title Modules\n",
        "import os\n",
        "from pathlib import Path\n",
        "import shutil\n",
        "from IPython.display import clear_output\n",
        "\n",
        "os.makedirs(\"/content/whisper/output\", exist_ok=True)\n",
        "os.makedirs(\"/content/whisper/input\", exist_ok=True)"
      ],
      "metadata": {
        "cellView": "form",
        "id": "KSCT9MtCW-KR"
      },
      "execution_count": null,
      "outputs": []
    },
    {
      "cell_type": "markdown",
      "metadata": {
        "id": "xsm5cv5yyKa2"
      },
      "source": [
        "# Run"
      ]
    },
    {
      "cell_type": "code",
      "execution_count": null,
      "metadata": {
        "id": "MYD8F0lOyR0s",
        "cellView": "form"
      },
      "outputs": [],
      "source": [
        "#@title Download Audio dari Youtube\n",
        "audioURL = \"https://www.youtube.com/watch?v=L6SNXnEErH0\" #@param {type:\"string\"}\n",
        "fileName = \"linting-daun\" #@param {type:\"string\"}\n",
        "#@markdown ---\n",
        "import yt_dlp\n",
        "import os\n",
        "\n",
        "os.chdir('/content/whisper/input')\n",
        "\n",
        "def str_escape_space(text: str):\n",
        "    return '_'.join(text.split())\n",
        "\n",
        "def getAudioFromUrl(songTitle, songUrl, output_format='wav'):\n",
        "    song_title = songTitle\n",
        "    song_title = str_escape_space(song_title)\n",
        "    url = songUrl\n",
        "\n",
        "    ydl_options = {\n",
        "        'format': 'bestaudio/best',\n",
        "        'postprocessors': [\n",
        "            {\n",
        "                'key': 'FFmpegExtractAudio',\n",
        "                'preferredcodec': output_format\n",
        "            }\n",
        "        ],\n",
        "        'outtmpl': f'{song_title}'\n",
        "    }\n",
        "\n",
        "    try:\n",
        "        ydl = yt_dlp.YoutubeDL(ydl_options)\n",
        "        ydl.download([url])\n",
        "        print('OK')\n",
        "    except Exception as e:\n",
        "        print(e)\n",
        "    return fileName, output_format\n",
        "\n",
        "out = getAudioFromUrl(songTitle=fileName, songUrl=audioURL)\n",
        "file_from_youtube_path = f\"/content/whisper/input/{out[0]}.{out[1]}\"\n",
        "print(f\"Audio Location Path: {file_from_youtube_path}\")\n",
        "\n"
      ]
    },
    {
      "cell_type": "code",
      "execution_count": null,
      "metadata": {
        "id": "7d9am8kHykJ8",
        "cellView": "form"
      },
      "outputs": [],
      "source": [
        "#@title Generate\n",
        "\n",
        "audio_path = \"/content/whisper/input/linting-daun.wav\" #@param {type:\"string\"}\n",
        "task = \"transcribe\" #@param [\"transcribe\",\"translate\"]\n",
        "source_language = \"id\" #@param [\"auto\",\"en\", \"ja\", \"id\", \"ko\"]\n",
        "model_type = \"large\" #@param [\"tiny\", \"base\", \"small\", \"medium\", \"large\"]\n",
        "output_format = \"srt\" #@param [\"all\", \"srt\", \"json\", \"txt\", \"vtt\", \"tsv\"]\n",
        "\n",
        "output_dir = os.path.join(\"/content/whisper/output\", Path(audio_path).stem)\n",
        "\n",
        "if os.path.isdir(output_dir):\n",
        "  shutil.rmtree(output_dir)\n",
        "\n",
        "os.makedirs(output_dir)\n",
        "os.chdir(output_dir)\n",
        "\n",
        "print(\"===========================================\")\n",
        "print(f\"Output Location : {output_dir}\")\n",
        "print(\"Generating...\")\n",
        "if source_language == \"auto\":\n",
        "  !whisper \"$audio_path\" --model \"$model_type\" --task \"$task\" --output_format \"$output_format\"\n",
        "else:\n",
        "  !whisper \"$audio_path\" --language \"$source_language\" --model \"$model_type\" --task \"$task\" --output_format \"$output_format\"\n"
      ]
    },
    {
      "cell_type": "code",
      "source": [
        "#@title Download Output\n",
        "from google.colab import files\n",
        "\n",
        "output_folder = \"\" #@param {type:'string'}\n",
        "#@markdown if empty will use <code>output_dir</code> from **Generate** cell.\n",
        "folder = output_dir if output_folder == \"\" else output_folder\n",
        "\n",
        "\n",
        "target_folder = Path(folder).stem\n",
        "output_zip = f\"{folder}/{Path(folder).stem}-outputs.zip\"\n",
        "# !zip -r \"$output_zip\" \"$folder\"\n",
        "os.chdir(Path(folder).parent)\n",
        "\n",
        "if os.path.exists(output_zip):\n",
        "  os.remove(output_zip)\n",
        "\n",
        "!zip -r \"$output_zip\" \"$target_folder\"\n",
        "# files.download(output_zip)"
      ],
      "metadata": {
        "id": "i9OoOnf3YtAH",
        "cellView": "form"
      },
      "execution_count": null,
      "outputs": []
    },
    {
      "cell_type": "markdown",
      "metadata": {
        "id": "1Br6O7CUy3g0"
      },
      "source": [
        "# Web UI"
      ]
    },
    {
      "cell_type": "code",
      "execution_count": null,
      "metadata": {
        "colab": {
          "background_save": true
        },
        "id": "JY9DkDQsy2tN"
      },
      "outputs": [],
      "source": [
        "import gradio as gr\n",
        "\n",
        "def VideoBox():\n",
        "    with gr.Row():\n",
        "      urlBox = gr.Textbox(placeholder=\"Video url/path\", label=\"Input Video Path\")\n",
        "      previewButton = gr.Button(interactive=True, value=\"Show Video\")\n",
        "\n",
        "    with gr.Row():\n",
        "      with gr.Accordion(label=\"Video Output\"):\n",
        "      # createEmptyContaienr\n",
        "        videoPlayer = gr.Video(visible=False)\n",
        "        # functionForEmptyContainer\n",
        "        def showVideo(urlBox):\n",
        "          videoBox = gr.Video.update(visible=True, value=urlBox, autoplay=True)\n",
        "          return videoBox\n",
        "        # end of\n",
        "\n",
        "    previewButton.click(fn=showVideo, outputs=videoPlayer , inputs=urlBox)\n",
        "\n",
        "with gr.Blocks() as app:\n",
        "\n",
        "  # video configuration\n",
        "  with gr.Box():\n",
        "    gr.Markdown(value=\"Configuration\")\n",
        "    VideoBox()\n",
        "\n",
        "if __name__ == \"__main__\":\n",
        "    app.launch(debug=True, share=True)"
      ]
    }
  ],
  "metadata": {
    "colab": {
      "provenance": [],
      "gpuType": "T4",
      "authorship_tag": "ABX9TyM1/a8PgnwN1A/S7k75yhH1",
      "include_colab_link": true
    },
    "kernelspec": {
      "display_name": "Python 3",
      "name": "python3"
    },
    "language_info": {
      "name": "python"
    },
    "accelerator": "GPU"
  },
  "nbformat": 4,
  "nbformat_minor": 0
}